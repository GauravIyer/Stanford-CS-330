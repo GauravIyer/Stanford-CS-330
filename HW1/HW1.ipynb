{
  "nbformat": 4,
  "nbformat_minor": 0,
  "metadata": {
    "colab": {
      "name": "HW1.ipynb",
      "provenance": [],
      "collapsed_sections": [],
      "toc_visible": true
    },
    "kernelspec": {
      "name": "python3",
      "display_name": "Python 3"
    },
    "accelerator": "GPU"
  },
  "cells": [
    {
      "cell_type": "markdown",
      "metadata": {
        "id": "PINJSbbdRMSq",
        "colab_type": "text"
      },
      "source": [
        "# Imports and Boilerplate"
      ]
    },
    {
      "cell_type": "code",
      "metadata": {
        "id": "5nuic3JUK5Gf",
        "colab_type": "code",
        "colab": {}
      },
      "source": [
        "import os\n",
        "import numpy as np\n",
        "import torch\n",
        "import torch.nn as nn\n",
        "import torch.optim as optim\n",
        "import matplotlib\n",
        "import matplotlib.pyplot as plt\n",
        "import random"
      ],
      "execution_count": 0,
      "outputs": []
    },
    {
      "cell_type": "code",
      "metadata": {
        "id": "MkNSANTkOWX2",
        "colab_type": "code",
        "colab": {}
      },
      "source": [
        "from data_generator import DataGenerator\n",
        "from models import MANN\n",
        "from plotter import plot\n",
        "from train import train\n",
        "from utils import get_images,image_file_to_array,load_images"
      ],
      "execution_count": 0,
      "outputs": []
    },
    {
      "cell_type": "code",
      "metadata": {
        "id": "iDvYqiR5K-f9",
        "colab_type": "code",
        "colab": {}
      },
      "source": [
        "#Make sure to run this for them sweet speed gainz!\n",
        "device=torch.device(\"cuda:0\" if (torch.cuda.is_available()) else \"cpu\")\n",
        "device"
      ],
      "execution_count": 0,
      "outputs": []
    },
    {
      "cell_type": "markdown",
      "metadata": {
        "id": "NlgxcrgpRbtE",
        "colab_type": "text"
      },
      "source": [
        "# Data"
      ]
    },
    {
      "cell_type": "code",
      "metadata": {
        "id": "WaM5opAULCcb",
        "colab_type": "code",
        "colab": {}
      },
      "source": [
        "!wget https://cs330.stanford.edu/material/hw1_updated.zip\n",
        "!unzip -q hw1_updated.zip"
      ],
      "execution_count": 0,
      "outputs": []
    },
    {
      "cell_type": "markdown",
      "metadata": {
        "id": "u-CTczb3Rmfl",
        "colab_type": "text"
      },
      "source": [
        "# Hyperparameters, Other Customisable Stuff"
      ]
    },
    {
      "cell_type": "code",
      "metadata": {
        "id": "Fhhox5ozLFxE",
        "colab_type": "code",
        "colab": {}
      },
      "source": [
        "num_classes=5\n",
        "num_samples_per_class=1\n",
        "meta_batch_size=16\n",
        "steps=50000\n",
        "lr=0.001\n",
        "root=\"/content/hw1/omniglot_resized\"\n",
        "device=device"
      ],
      "execution_count": 0,
      "outputs": []
    },
    {
      "cell_type": "markdown",
      "metadata": {
        "id": "RTAkbJg4RwMU",
        "colab_type": "text"
      },
      "source": [
        "# Training\n",
        "The train function returns the test accuracies measured every 250 steps. Also prints the test accuracy every 250 steps for tracking purposes.\n",
        "\n",
        "(Currently does not print the losses, but this is easy enough to do if required)."
      ]
    },
    {
      "cell_type": "code",
      "metadata": {
        "id": "iNx_KgHzQcio",
        "colab_type": "code",
        "colab": {}
      },
      "source": [
        "test_accuracies=train(num_classes,num_samples_per_class,meta_batch_size,steps,lr,root,device)"
      ],
      "execution_count": 0,
      "outputs": []
    },
    {
      "cell_type": "markdown",
      "metadata": {
        "id": "63iVFYbrSJWj",
        "colab_type": "text"
      },
      "source": [
        "# Accuracy Plot\n",
        "Plotted per 250 steps."
      ]
    },
    {
      "cell_type": "code",
      "metadata": {
        "id": "V2nJnAE2Qjlh",
        "colab_type": "code",
        "colab": {}
      },
      "source": [
        "plot(test_accuracies)"
      ],
      "execution_count": 0,
      "outputs": []
    },
    {
      "cell_type": "code",
      "metadata": {
        "id": "0Y9aetORRFfu",
        "colab_type": "code",
        "colab": {}
      },
      "source": [
        ""
      ],
      "execution_count": 0,
      "outputs": []
    }
  ]
}